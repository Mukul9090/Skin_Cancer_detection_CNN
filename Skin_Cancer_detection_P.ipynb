{
  "nbformat": 4,
  "nbformat_minor": 0,
  "metadata": {
    "accelerator": "GPU",
    "colab": {
      "name": "Skin_Cancer_detection_P.ipynb",
      "provenance": [],
      "collapsed_sections": []
    },
    "kernelspec": {
      "display_name": "Python 3",
      "name": "python3"
    },
    "language_info": {
      "name": "python"
    }
  },
  "cells": [
    {
      "cell_type": "code",
      "metadata": {
        "colab": {
          "base_uri": "https://localhost:8080/"
        },
        "id": "xdxiMw2akBZQ",
        "outputId": "e6e2bca9-df8f-4d82-e0a3-0e7eb23b6242"
      },
      "source": [
        "from google.colab import drive\n",
        "drive.mount('/content/drive')"
      ],
      "execution_count": 5,
      "outputs": [
        {
          "output_type": "stream",
          "text": [
            "Mounted at /content/drive\n"
          ],
          "name": "stdout"
        }
      ]
    },
    {
      "cell_type": "code",
      "metadata": {
        "id": "9ihG73wDZkGC"
      },
      "source": [
        "import pandas as pd\n",
        "import numpy as np \n",
        "from PIL import Image\n",
        "import os\n",
        "from glob import glob "
      ],
      "execution_count": 6,
      "outputs": []
    },
    {
      "cell_type": "code",
      "metadata": {
        "id": "WkaENmwuZkJ1"
      },
      "source": [
        "df=pd.read_csv('/content/drive/MyDrive/Kaggle_dataset/HAM10000_metadata.csv')"
      ],
      "execution_count": 7,
      "outputs": []
    },
    {
      "cell_type": "code",
      "metadata": {
        "id": "72bBw9nvZkPV",
        "colab": {
          "base_uri": "https://localhost:8080/",
          "height": 195
        },
        "outputId": "46574381-cfc2-4a64-8c2f-9e7a8a941f97"
      },
      "source": [
        "df.head(5)"
      ],
      "execution_count": 8,
      "outputs": [
        {
          "output_type": "execute_result",
          "data": {
            "text/html": [
              "<div>\n",
              "<style scoped>\n",
              "    .dataframe tbody tr th:only-of-type {\n",
              "        vertical-align: middle;\n",
              "    }\n",
              "\n",
              "    .dataframe tbody tr th {\n",
              "        vertical-align: top;\n",
              "    }\n",
              "\n",
              "    .dataframe thead th {\n",
              "        text-align: right;\n",
              "    }\n",
              "</style>\n",
              "<table border=\"1\" class=\"dataframe\">\n",
              "  <thead>\n",
              "    <tr style=\"text-align: right;\">\n",
              "      <th></th>\n",
              "      <th>lesion_id</th>\n",
              "      <th>image_id</th>\n",
              "      <th>dx</th>\n",
              "      <th>dx_type</th>\n",
              "      <th>age</th>\n",
              "      <th>sex</th>\n",
              "      <th>localization</th>\n",
              "    </tr>\n",
              "  </thead>\n",
              "  <tbody>\n",
              "    <tr>\n",
              "      <th>0</th>\n",
              "      <td>HAM_0000118</td>\n",
              "      <td>ISIC_0027419</td>\n",
              "      <td>bkl</td>\n",
              "      <td>histo</td>\n",
              "      <td>80.0</td>\n",
              "      <td>male</td>\n",
              "      <td>scalp</td>\n",
              "    </tr>\n",
              "    <tr>\n",
              "      <th>1</th>\n",
              "      <td>HAM_0000118</td>\n",
              "      <td>ISIC_0025030</td>\n",
              "      <td>bkl</td>\n",
              "      <td>histo</td>\n",
              "      <td>80.0</td>\n",
              "      <td>male</td>\n",
              "      <td>scalp</td>\n",
              "    </tr>\n",
              "    <tr>\n",
              "      <th>2</th>\n",
              "      <td>HAM_0002730</td>\n",
              "      <td>ISIC_0026769</td>\n",
              "      <td>bkl</td>\n",
              "      <td>histo</td>\n",
              "      <td>80.0</td>\n",
              "      <td>male</td>\n",
              "      <td>scalp</td>\n",
              "    </tr>\n",
              "    <tr>\n",
              "      <th>3</th>\n",
              "      <td>HAM_0002730</td>\n",
              "      <td>ISIC_0025661</td>\n",
              "      <td>bkl</td>\n",
              "      <td>histo</td>\n",
              "      <td>80.0</td>\n",
              "      <td>male</td>\n",
              "      <td>scalp</td>\n",
              "    </tr>\n",
              "    <tr>\n",
              "      <th>4</th>\n",
              "      <td>HAM_0001466</td>\n",
              "      <td>ISIC_0031633</td>\n",
              "      <td>bkl</td>\n",
              "      <td>histo</td>\n",
              "      <td>75.0</td>\n",
              "      <td>male</td>\n",
              "      <td>ear</td>\n",
              "    </tr>\n",
              "  </tbody>\n",
              "</table>\n",
              "</div>"
            ],
            "text/plain": [
              "     lesion_id      image_id   dx dx_type   age   sex localization\n",
              "0  HAM_0000118  ISIC_0027419  bkl   histo  80.0  male        scalp\n",
              "1  HAM_0000118  ISIC_0025030  bkl   histo  80.0  male        scalp\n",
              "2  HAM_0002730  ISIC_0026769  bkl   histo  80.0  male        scalp\n",
              "3  HAM_0002730  ISIC_0025661  bkl   histo  80.0  male        scalp\n",
              "4  HAM_0001466  ISIC_0031633  bkl   histo  75.0  male          ear"
            ]
          },
          "metadata": {
            "tags": []
          },
          "execution_count": 8
        }
      ]
    },
    {
      "cell_type": "code",
      "metadata": {
        "id": "Vct1J2sXZkRi"
      },
      "source": [
        "os.chdir('/content/drive/MyDrive/Kaggle_dataset/skin_cancer')"
      ],
      "execution_count": 9,
      "outputs": []
    },
    {
      "cell_type": "code",
      "metadata": {
        "id": "4sU0jJFAZkT-"
      },
      "source": [
        "img_path=glob('/content/drive/MyDrive/Kaggle_dataset/skin_cancer/*')"
      ],
      "execution_count": 11,
      "outputs": []
    },
    {
      "cell_type": "code",
      "metadata": {
        "id": "C5_03VNTb9qN"
      },
      "source": [
        "path='/content/drive/MyDrive/Kaggle_dataset/skin_cancer/'\n"
      ],
      "execution_count": 15,
      "outputs": []
    },
    {
      "cell_type": "code",
      "metadata": {
        "id": "jmf69e_agn3g"
      },
      "source": [
        ""
      ],
      "execution_count": 15,
      "outputs": []
    },
    {
      "cell_type": "code",
      "metadata": {
        "id": "0rPhmBURcNeX"
      },
      "source": [
        "df[\"path\"]=path+df['image_id']+'.jpg'"
      ],
      "execution_count": 16,
      "outputs": []
    },
    {
      "cell_type": "code",
      "metadata": {
        "colab": {
          "base_uri": "https://localhost:8080/"
        },
        "id": "8xD9bcclcNhH",
        "outputId": "92a02575-7d6e-425c-9878-ced9d084fd9c"
      },
      "source": [
        "df['path'].values"
      ],
      "execution_count": 17,
      "outputs": [
        {
          "output_type": "execute_result",
          "data": {
            "text/plain": [
              "array(['/content/drive/MyDrive/Kaggle_dataset/skin_cancer/ISIC_0027419.jpg',\n",
              "       '/content/drive/MyDrive/Kaggle_dataset/skin_cancer/ISIC_0025030.jpg',\n",
              "       '/content/drive/MyDrive/Kaggle_dataset/skin_cancer/ISIC_0026769.jpg',\n",
              "       ...,\n",
              "       '/content/drive/MyDrive/Kaggle_dataset/skin_cancer/ISIC_0033536.jpg',\n",
              "       '/content/drive/MyDrive/Kaggle_dataset/skin_cancer/ISIC_0032854.jpg',\n",
              "       '/content/drive/MyDrive/Kaggle_dataset/skin_cancer/ISIC_0032258.jpg'],\n",
              "      dtype=object)"
            ]
          },
          "metadata": {
            "tags": []
          },
          "execution_count": 17
        }
      ]
    },
    {
      "cell_type": "code",
      "metadata": {
        "id": "Fny70EjRcNj2"
      },
      "source": [
        "import shutil"
      ],
      "execution_count": 18,
      "outputs": []
    },
    {
      "cell_type": "code",
      "metadata": {
        "id": "YJA-3RMThp_b"
      },
      "source": [
        "label=df['dx'].unique().tolist()\n",
        "label_img=[]\n",
        "\n",
        "data_dir=os.getcwd()+'/'\n",
        "\n",
        "dest_dir=os.getcwd()+\"/Class_dir/\""
      ],
      "execution_count": 19,
      "outputs": []
    },
    {
      "cell_type": "code",
      "metadata": {
        "colab": {
          "base_uri": "https://localhost:8080/",
          "height": 35
        },
        "id": "Remu9-zOrnBk",
        "outputId": "8442b530-ebe3-4d8a-cd4a-5c037450a07b"
      },
      "source": [
        ""
      ],
      "execution_count": 20,
      "outputs": [
        {
          "output_type": "execute_result",
          "data": {
            "application/vnd.google.colaboratory.intrinsic+json": {
              "type": "string"
            },
            "text/plain": [
              "'/content/drive/MyDrive/Kaggle_dataset/skin_cancer/'"
            ]
          },
          "metadata": {
            "tags": []
          },
          "execution_count": 20
        }
      ]
    },
    {
      "cell_type": "markdown",
      "metadata": {
        "id": "C7OvZbEhmzfc"
      },
      "source": [
        ""
      ]
    },
    {
      "cell_type": "code",
      "metadata": {
        "id": "SzggNkpShqC3"
      },
      "source": [
        ""
      ],
      "execution_count": 20,
      "outputs": []
    },
    {
      "cell_type": "code",
      "metadata": {
        "id": "6QdgzzrehqGY"
      },
      "source": [
        ""
      ],
      "execution_count": 20,
      "outputs": []
    },
    {
      "cell_type": "code",
      "metadata": {
        "id": "94vcOwWLhqIo"
      },
      "source": [
        ""
      ],
      "execution_count": 20,
      "outputs": []
    },
    {
      "cell_type": "code",
      "metadata": {
        "id": "TSFTTaPocNmx"
      },
      "source": [
        "from tensorflow.keras.preprocessing.image import ImageDataGenerator\n",
        "import os \n",
        "import matplotlib.pyplot as plt\n"
      ],
      "execution_count": 21,
      "outputs": []
    },
    {
      "cell_type": "code",
      "metadata": {
        "id": "GhklSz5IcNpV"
      },
      "source": [
        "\n",
        "data_gen=ImageDataGenerator()\n",
        "directory1='/content/drive/MyDrive/Kaggle_dataset/Classed_data'"
      ],
      "execution_count": 22,
      "outputs": []
    },
    {
      "cell_type": "code",
      "metadata": {
        "colab": {
          "base_uri": "https://localhost:8080/"
        },
        "id": "bF0I__X8g5mC",
        "outputId": "9c451f47-1f2c-4ff7-d2a9-04a1eea94919"
      },
      "source": [
        "train_data=data_gen.flow_from_directory(directory=directory1,target_size=(224,224),class_mode=\"categorical\",\n",
        "                                        batch_size=16,color_mode='rgb')"
      ],
      "execution_count": 23,
      "outputs": [
        {
          "output_type": "stream",
          "text": [
            "Found 10015 images belonging to 7 classes.\n"
          ],
          "name": "stdout"
        }
      ]
    },
    {
      "cell_type": "code",
      "metadata": {
        "colab": {
          "base_uri": "https://localhost:8080/"
        },
        "id": "Nhuk7z96yU62",
        "outputId": "f1d8a1df-e1e5-4c43-aebc-3690d035cf6b"
      },
      "source": [
        "pip install autokeras\n"
      ],
      "execution_count": 24,
      "outputs": [
        {
          "output_type": "stream",
          "text": [
            "Collecting autokeras\n",
            "\u001b[?25l  Downloading https://files.pythonhosted.org/packages/09/12/cf698586ccc8245f08d1843dcafb65b064a2e9e2923b889dc58e1019f099/autokeras-1.0.12-py3-none-any.whl (164kB)\n",
            "\r\u001b[K     |██                              | 10kB 20.7MB/s eta 0:00:01\r\u001b[K     |████                            | 20kB 28.6MB/s eta 0:00:01\r\u001b[K     |██████                          | 30kB 34.1MB/s eta 0:00:01\r\u001b[K     |████████                        | 40kB 31.5MB/s eta 0:00:01\r\u001b[K     |██████████                      | 51kB 32.1MB/s eta 0:00:01\r\u001b[K     |████████████                    | 61kB 31.5MB/s eta 0:00:01\r\u001b[K     |██████████████                  | 71kB 32.1MB/s eta 0:00:01\r\u001b[K     |████████████████                | 81kB 32.2MB/s eta 0:00:01\r\u001b[K     |██████████████████              | 92kB 33.7MB/s eta 0:00:01\r\u001b[K     |████████████████████            | 102kB 34.6MB/s eta 0:00:01\r\u001b[K     |██████████████████████          | 112kB 34.6MB/s eta 0:00:01\r\u001b[K     |████████████████████████        | 122kB 34.6MB/s eta 0:00:01\r\u001b[K     |██████████████████████████      | 133kB 34.6MB/s eta 0:00:01\r\u001b[K     |████████████████████████████    | 143kB 34.6MB/s eta 0:00:01\r\u001b[K     |██████████████████████████████  | 153kB 34.6MB/s eta 0:00:01\r\u001b[K     |████████████████████████████████| 163kB 34.6MB/s eta 0:00:01\r\u001b[K     |████████████████████████████████| 174kB 34.6MB/s \n",
            "\u001b[?25hRequirement already satisfied: tensorflow>=2.3.0 in /usr/local/lib/python3.7/dist-packages (from autokeras) (2.4.1)\n",
            "Collecting keras-tuner>=1.0.2\n",
            "\u001b[?25l  Downloading https://files.pythonhosted.org/packages/20/ec/1ef246787174b1e2bb591c95f29d3c1310070cad877824f907faba3dade9/keras-tuner-1.0.2.tar.gz (62kB)\n",
            "\u001b[K     |████████████████████████████████| 71kB 11.4MB/s \n",
            "\u001b[?25hRequirement already satisfied: packaging in /usr/local/lib/python3.7/dist-packages (from autokeras) (20.9)\n",
            "Requirement already satisfied: pandas in /usr/local/lib/python3.7/dist-packages (from autokeras) (1.1.5)\n",
            "Requirement already satisfied: scikit-learn in /usr/local/lib/python3.7/dist-packages (from autokeras) (0.22.2.post1)\n",
            "Requirement already satisfied: protobuf>=3.9.2 in /usr/local/lib/python3.7/dist-packages (from tensorflow>=2.3.0->autokeras) (3.12.4)\n",
            "Requirement already satisfied: termcolor~=1.1.0 in /usr/local/lib/python3.7/dist-packages (from tensorflow>=2.3.0->autokeras) (1.1.0)\n",
            "Requirement already satisfied: absl-py~=0.10 in /usr/local/lib/python3.7/dist-packages (from tensorflow>=2.3.0->autokeras) (0.12.0)\n",
            "Requirement already satisfied: opt-einsum~=3.3.0 in /usr/local/lib/python3.7/dist-packages (from tensorflow>=2.3.0->autokeras) (3.3.0)\n",
            "Requirement already satisfied: flatbuffers~=1.12.0 in /usr/local/lib/python3.7/dist-packages (from tensorflow>=2.3.0->autokeras) (1.12)\n",
            "Requirement already satisfied: keras-preprocessing~=1.1.2 in /usr/local/lib/python3.7/dist-packages (from tensorflow>=2.3.0->autokeras) (1.1.2)\n",
            "Requirement already satisfied: tensorflow-estimator<2.5.0,>=2.4.0 in /usr/local/lib/python3.7/dist-packages (from tensorflow>=2.3.0->autokeras) (2.4.0)\n",
            "Requirement already satisfied: h5py~=2.10.0 in /usr/local/lib/python3.7/dist-packages (from tensorflow>=2.3.0->autokeras) (2.10.0)\n",
            "Requirement already satisfied: grpcio~=1.32.0 in /usr/local/lib/python3.7/dist-packages (from tensorflow>=2.3.0->autokeras) (1.32.0)\n",
            "Requirement already satisfied: astunparse~=1.6.3 in /usr/local/lib/python3.7/dist-packages (from tensorflow>=2.3.0->autokeras) (1.6.3)\n",
            "Requirement already satisfied: numpy~=1.19.2 in /usr/local/lib/python3.7/dist-packages (from tensorflow>=2.3.0->autokeras) (1.19.5)\n",
            "Requirement already satisfied: wrapt~=1.12.1 in /usr/local/lib/python3.7/dist-packages (from tensorflow>=2.3.0->autokeras) (1.12.1)\n",
            "Requirement already satisfied: gast==0.3.3 in /usr/local/lib/python3.7/dist-packages (from tensorflow>=2.3.0->autokeras) (0.3.3)\n",
            "Requirement already satisfied: six~=1.15.0 in /usr/local/lib/python3.7/dist-packages (from tensorflow>=2.3.0->autokeras) (1.15.0)\n",
            "Requirement already satisfied: wheel~=0.35 in /usr/local/lib/python3.7/dist-packages (from tensorflow>=2.3.0->autokeras) (0.36.2)\n",
            "Requirement already satisfied: google-pasta~=0.2 in /usr/local/lib/python3.7/dist-packages (from tensorflow>=2.3.0->autokeras) (0.2.0)\n",
            "Requirement already satisfied: typing-extensions~=3.7.4 in /usr/local/lib/python3.7/dist-packages (from tensorflow>=2.3.0->autokeras) (3.7.4.3)\n",
            "Requirement already satisfied: tensorboard~=2.4 in /usr/local/lib/python3.7/dist-packages (from tensorflow>=2.3.0->autokeras) (2.4.1)\n",
            "Requirement already satisfied: future in /usr/local/lib/python3.7/dist-packages (from keras-tuner>=1.0.2->autokeras) (0.16.0)\n",
            "Requirement already satisfied: tabulate in /usr/local/lib/python3.7/dist-packages (from keras-tuner>=1.0.2->autokeras) (0.8.9)\n",
            "Collecting terminaltables\n",
            "  Downloading https://files.pythonhosted.org/packages/9b/c4/4a21174f32f8a7e1104798c445dacdc1d4df86f2f26722767034e4de4bff/terminaltables-3.1.0.tar.gz\n",
            "Collecting colorama\n",
            "  Downloading https://files.pythonhosted.org/packages/44/98/5b86278fbbf250d239ae0ecb724f8572af1c91f4a11edf4d36a206189440/colorama-0.4.4-py2.py3-none-any.whl\n",
            "Requirement already satisfied: tqdm in /usr/local/lib/python3.7/dist-packages (from keras-tuner>=1.0.2->autokeras) (4.41.1)\n",
            "Requirement already satisfied: requests in /usr/local/lib/python3.7/dist-packages (from keras-tuner>=1.0.2->autokeras) (2.23.0)\n",
            "Requirement already satisfied: scipy in /usr/local/lib/python3.7/dist-packages (from keras-tuner>=1.0.2->autokeras) (1.4.1)\n",
            "Requirement already satisfied: pyparsing>=2.0.2 in /usr/local/lib/python3.7/dist-packages (from packaging->autokeras) (2.4.7)\n",
            "Requirement already satisfied: pytz>=2017.2 in /usr/local/lib/python3.7/dist-packages (from pandas->autokeras) (2018.9)\n",
            "Requirement already satisfied: python-dateutil>=2.7.3 in /usr/local/lib/python3.7/dist-packages (from pandas->autokeras) (2.8.1)\n",
            "Requirement already satisfied: joblib>=0.11 in /usr/local/lib/python3.7/dist-packages (from scikit-learn->autokeras) (1.0.1)\n",
            "Requirement already satisfied: setuptools in /usr/local/lib/python3.7/dist-packages (from protobuf>=3.9.2->tensorflow>=2.3.0->autokeras) (56.1.0)\n",
            "Requirement already satisfied: google-auth-oauthlib<0.5,>=0.4.1 in /usr/local/lib/python3.7/dist-packages (from tensorboard~=2.4->tensorflow>=2.3.0->autokeras) (0.4.4)\n",
            "Requirement already satisfied: google-auth<2,>=1.6.3 in /usr/local/lib/python3.7/dist-packages (from tensorboard~=2.4->tensorflow>=2.3.0->autokeras) (1.30.0)\n",
            "Requirement already satisfied: markdown>=2.6.8 in /usr/local/lib/python3.7/dist-packages (from tensorboard~=2.4->tensorflow>=2.3.0->autokeras) (3.3.4)\n",
            "Requirement already satisfied: tensorboard-plugin-wit>=1.6.0 in /usr/local/lib/python3.7/dist-packages (from tensorboard~=2.4->tensorflow>=2.3.0->autokeras) (1.8.0)\n",
            "Requirement already satisfied: werkzeug>=0.11.15 in /usr/local/lib/python3.7/dist-packages (from tensorboard~=2.4->tensorflow>=2.3.0->autokeras) (2.0.0)\n",
            "Requirement already satisfied: idna<3,>=2.5 in /usr/local/lib/python3.7/dist-packages (from requests->keras-tuner>=1.0.2->autokeras) (2.10)\n",
            "Requirement already satisfied: urllib3!=1.25.0,!=1.25.1,<1.26,>=1.21.1 in /usr/local/lib/python3.7/dist-packages (from requests->keras-tuner>=1.0.2->autokeras) (1.24.3)\n",
            "Requirement already satisfied: chardet<4,>=3.0.2 in /usr/local/lib/python3.7/dist-packages (from requests->keras-tuner>=1.0.2->autokeras) (3.0.4)\n",
            "Requirement already satisfied: certifi>=2017.4.17 in /usr/local/lib/python3.7/dist-packages (from requests->keras-tuner>=1.0.2->autokeras) (2020.12.5)\n",
            "Requirement already satisfied: requests-oauthlib>=0.7.0 in /usr/local/lib/python3.7/dist-packages (from google-auth-oauthlib<0.5,>=0.4.1->tensorboard~=2.4->tensorflow>=2.3.0->autokeras) (1.3.0)\n",
            "Requirement already satisfied: cachetools<5.0,>=2.0.0 in /usr/local/lib/python3.7/dist-packages (from google-auth<2,>=1.6.3->tensorboard~=2.4->tensorflow>=2.3.0->autokeras) (4.2.2)\n",
            "Requirement already satisfied: rsa<5,>=3.1.4; python_version >= \"3.6\" in /usr/local/lib/python3.7/dist-packages (from google-auth<2,>=1.6.3->tensorboard~=2.4->tensorflow>=2.3.0->autokeras) (4.7.2)\n",
            "Requirement already satisfied: pyasn1-modules>=0.2.1 in /usr/local/lib/python3.7/dist-packages (from google-auth<2,>=1.6.3->tensorboard~=2.4->tensorflow>=2.3.0->autokeras) (0.2.8)\n",
            "Requirement already satisfied: importlib-metadata; python_version < \"3.8\" in /usr/local/lib/python3.7/dist-packages (from markdown>=2.6.8->tensorboard~=2.4->tensorflow>=2.3.0->autokeras) (4.0.1)\n",
            "Requirement already satisfied: oauthlib>=3.0.0 in /usr/local/lib/python3.7/dist-packages (from requests-oauthlib>=0.7.0->google-auth-oauthlib<0.5,>=0.4.1->tensorboard~=2.4->tensorflow>=2.3.0->autokeras) (3.1.0)\n",
            "Requirement already satisfied: pyasn1>=0.1.3 in /usr/local/lib/python3.7/dist-packages (from rsa<5,>=3.1.4; python_version >= \"3.6\"->google-auth<2,>=1.6.3->tensorboard~=2.4->tensorflow>=2.3.0->autokeras) (0.4.8)\n",
            "Requirement already satisfied: zipp>=0.5 in /usr/local/lib/python3.7/dist-packages (from importlib-metadata; python_version < \"3.8\"->markdown>=2.6.8->tensorboard~=2.4->tensorflow>=2.3.0->autokeras) (3.4.1)\n",
            "Building wheels for collected packages: keras-tuner, terminaltables\n",
            "  Building wheel for keras-tuner (setup.py) ... \u001b[?25l\u001b[?25hdone\n",
            "  Created wheel for keras-tuner: filename=keras_tuner-1.0.2-cp37-none-any.whl size=78938 sha256=6b377eba661bdfef6357f2a0613f1a3d58c9d042ab9af2487f10230035292b01\n",
            "  Stored in directory: /root/.cache/pip/wheels/bb/a1/8a/7c3de0efb3707a1701b36ebbfdbc4e67aedf6d4943a1f463d6\n",
            "  Building wheel for terminaltables (setup.py) ... \u001b[?25l\u001b[?25hdone\n",
            "  Created wheel for terminaltables: filename=terminaltables-3.1.0-cp37-none-any.whl size=15356 sha256=8449c015fd9a4f65730ce9b12076fefdf262a4f8b4972ebd5b0937bf6cfbef08\n",
            "  Stored in directory: /root/.cache/pip/wheels/30/6b/50/6c75775b681fb36cdfac7f19799888ef9d8813aff9e379663e\n",
            "Successfully built keras-tuner terminaltables\n",
            "Installing collected packages: terminaltables, colorama, keras-tuner, autokeras\n",
            "Successfully installed autokeras-1.0.12 colorama-0.4.4 keras-tuner-1.0.2 terminaltables-3.1.0\n"
          ],
          "name": "stdout"
        }
      ]
    },
    {
      "cell_type": "code",
      "metadata": {
        "id": "YEFiSwFhyVJf"
      },
      "source": [
        "import autokeras"
      ],
      "execution_count": 25,
      "outputs": []
    },
    {
      "cell_type": "code",
      "metadata": {
        "id": "_buaPKZ9yVNI"
      },
      "source": [
        ""
      ],
      "execution_count": 25,
      "outputs": []
    },
    {
      "cell_type": "code",
      "metadata": {
        "id": "KgLC3HayyVPT"
      },
      "source": [
        ""
      ],
      "execution_count": 25,
      "outputs": []
    },
    {
      "cell_type": "code",
      "metadata": {
        "id": "ZG8jvfiXg5pX"
      },
      "source": [
        "import keras\n",
        "from keras.utils.np_utils import to_categorical # used for converting labels to one-hot-encoding\n",
        "from keras.models import Sequential\n",
        "from keras.layers import Dense, Dropout, Flatten, Conv2D, MaxPool2D, BatchNormalization\n",
        "from sklearn.model_selection import train_test_split\n",
        "from scipy import stats\n",
        "from sklearn.preprocessing import LabelEncoder"
      ],
      "execution_count": 26,
      "outputs": []
    },
    {
      "cell_type": "code",
      "metadata": {
        "colab": {
          "base_uri": "https://localhost:8080/"
        },
        "id": "TA-VT46Eg5r6",
        "outputId": "abaf2625-9c07-4bf5-b699-246ddd4645db"
      },
      "source": [
        "le=LabelEncoder()\n",
        "le.fit(df['dx'])\n"
      ],
      "execution_count": 27,
      "outputs": [
        {
          "output_type": "execute_result",
          "data": {
            "text/plain": [
              "LabelEncoder()"
            ]
          },
          "metadata": {
            "tags": []
          },
          "execution_count": 27
        }
      ]
    },
    {
      "cell_type": "code",
      "metadata": {
        "id": "K3FmlH4rg5uu"
      },
      "source": [
        "df['label']=le.transform(df['dx'])\n",
        "from sklearn.utils import resample"
      ],
      "execution_count": 28,
      "outputs": []
    },
    {
      "cell_type": "code",
      "metadata": {
        "id": "76E4Uwq4g5xf"
      },
      "source": [
        "df_0 = df[df['label'] == 0]\n",
        "df_1 = df[df['label'] == 1]\n",
        "df_2 = df[df['label'] == 2]\n",
        "df_3 = df[df['label'] == 3]\n",
        "df_4 = df[df['label'] == 4]\n",
        "df_5 = df[df['label'] == 5]\n",
        "df_6 = df[df['label'] == 6]\n"
      ],
      "execution_count": 29,
      "outputs": []
    },
    {
      "cell_type": "code",
      "metadata": {
        "id": "GpPCTd1c4yzt"
      },
      "source": [
        ""
      ],
      "execution_count": 29,
      "outputs": []
    },
    {
      "cell_type": "code",
      "metadata": {
        "id": "oN6Cb_rwg5z7"
      },
      "source": [
        "n_samples=500\n",
        "df_0=resample(df_0,replace=True,n_samples=n_samples,random_state=42)\n",
        "df_1=resample(df_1,replace=True,n_samples=n_samples,random_state=42)\n",
        "df_2=resample(df_2,replace=True,n_samples=n_samples,random_state=42)\n",
        "df_3=resample(df_3,replace=True,n_samples=n_samples,random_state=42)\n",
        "df_4=resample(df_4,replace=True,n_samples=n_samples,random_state=42)\n",
        "df_5=resample(df_5,replace=True,n_samples=n_samples,random_state=42)\n",
        "df_6=resample(df_6,replace=True,n_samples=n_samples,random_state=42)"
      ],
      "execution_count": 30,
      "outputs": []
    },
    {
      "cell_type": "code",
      "metadata": {
        "colab": {
          "base_uri": "https://localhost:8080/",
          "height": 402
        },
        "id": "LGzUWl7i4vhm",
        "outputId": "2d6c490d-8f80-42bf-a494-184bf6a68795"
      },
      "source": [
        "df_0"
      ],
      "execution_count": 31,
      "outputs": [
        {
          "output_type": "execute_result",
          "data": {
            "text/html": [
              "<div>\n",
              "<style scoped>\n",
              "    .dataframe tbody tr th:only-of-type {\n",
              "        vertical-align: middle;\n",
              "    }\n",
              "\n",
              "    .dataframe tbody tr th {\n",
              "        vertical-align: top;\n",
              "    }\n",
              "\n",
              "    .dataframe thead th {\n",
              "        text-align: right;\n",
              "    }\n",
              "</style>\n",
              "<table border=\"1\" class=\"dataframe\">\n",
              "  <thead>\n",
              "    <tr style=\"text-align: right;\">\n",
              "      <th></th>\n",
              "      <th>lesion_id</th>\n",
              "      <th>image_id</th>\n",
              "      <th>dx</th>\n",
              "      <th>dx_type</th>\n",
              "      <th>age</th>\n",
              "      <th>sex</th>\n",
              "      <th>localization</th>\n",
              "      <th>path</th>\n",
              "      <th>label</th>\n",
              "    </tr>\n",
              "  </thead>\n",
              "  <tbody>\n",
              "    <tr>\n",
              "      <th>9789</th>\n",
              "      <td>HAM_0003136</td>\n",
              "      <td>ISIC_0026645</td>\n",
              "      <td>akiec</td>\n",
              "      <td>histo</td>\n",
              "      <td>65.0</td>\n",
              "      <td>male</td>\n",
              "      <td>back</td>\n",
              "      <td>/content/drive/MyDrive/Kaggle_dataset/skin_can...</td>\n",
              "      <td>0</td>\n",
              "    </tr>\n",
              "    <tr>\n",
              "      <th>9957</th>\n",
              "      <td>HAM_0006587</td>\n",
              "      <td>ISIC_0025780</td>\n",
              "      <td>akiec</td>\n",
              "      <td>histo</td>\n",
              "      <td>70.0</td>\n",
              "      <td>male</td>\n",
              "      <td>face</td>\n",
              "      <td>/content/drive/MyDrive/Kaggle_dataset/skin_can...</td>\n",
              "      <td>0</td>\n",
              "    </tr>\n",
              "    <tr>\n",
              "      <th>9793</th>\n",
              "      <td>HAM_0005505</td>\n",
              "      <td>ISIC_0024450</td>\n",
              "      <td>akiec</td>\n",
              "      <td>histo</td>\n",
              "      <td>50.0</td>\n",
              "      <td>male</td>\n",
              "      <td>upper extremity</td>\n",
              "      <td>/content/drive/MyDrive/Kaggle_dataset/skin_can...</td>\n",
              "      <td>0</td>\n",
              "    </tr>\n",
              "    <tr>\n",
              "      <th>9758</th>\n",
              "      <td>HAM_0003455</td>\n",
              "      <td>ISIC_0027896</td>\n",
              "      <td>akiec</td>\n",
              "      <td>histo</td>\n",
              "      <td>75.0</td>\n",
              "      <td>male</td>\n",
              "      <td>hand</td>\n",
              "      <td>/content/drive/MyDrive/Kaggle_dataset/skin_can...</td>\n",
              "      <td>0</td>\n",
              "    </tr>\n",
              "    <tr>\n",
              "      <th>9875</th>\n",
              "      <td>HAM_0005459</td>\n",
              "      <td>ISIC_0029268</td>\n",
              "      <td>akiec</td>\n",
              "      <td>histo</td>\n",
              "      <td>85.0</td>\n",
              "      <td>male</td>\n",
              "      <td>upper extremity</td>\n",
              "      <td>/content/drive/MyDrive/Kaggle_dataset/skin_can...</td>\n",
              "      <td>0</td>\n",
              "    </tr>\n",
              "    <tr>\n",
              "      <th>...</th>\n",
              "      <td>...</td>\n",
              "      <td>...</td>\n",
              "      <td>...</td>\n",
              "      <td>...</td>\n",
              "      <td>...</td>\n",
              "      <td>...</td>\n",
              "      <td>...</td>\n",
              "      <td>...</td>\n",
              "      <td>...</td>\n",
              "    </tr>\n",
              "    <tr>\n",
              "      <th>9837</th>\n",
              "      <td>HAM_0003262</td>\n",
              "      <td>ISIC_0026212</td>\n",
              "      <td>akiec</td>\n",
              "      <td>histo</td>\n",
              "      <td>45.0</td>\n",
              "      <td>male</td>\n",
              "      <td>face</td>\n",
              "      <td>/content/drive/MyDrive/Kaggle_dataset/skin_can...</td>\n",
              "      <td>0</td>\n",
              "    </tr>\n",
              "    <tr>\n",
              "      <th>9876</th>\n",
              "      <td>HAM_0003401</td>\n",
              "      <td>ISIC_0029598</td>\n",
              "      <td>akiec</td>\n",
              "      <td>histo</td>\n",
              "      <td>55.0</td>\n",
              "      <td>male</td>\n",
              "      <td>face</td>\n",
              "      <td>/content/drive/MyDrive/Kaggle_dataset/skin_can...</td>\n",
              "      <td>0</td>\n",
              "    </tr>\n",
              "    <tr>\n",
              "      <th>9910</th>\n",
              "      <td>HAM_0005024</td>\n",
              "      <td>ISIC_0025803</td>\n",
              "      <td>akiec</td>\n",
              "      <td>histo</td>\n",
              "      <td>80.0</td>\n",
              "      <td>male</td>\n",
              "      <td>face</td>\n",
              "      <td>/content/drive/MyDrive/Kaggle_dataset/skin_can...</td>\n",
              "      <td>0</td>\n",
              "    </tr>\n",
              "    <tr>\n",
              "      <th>9723</th>\n",
              "      <td>HAM_0005310</td>\n",
              "      <td>ISIC_0027231</td>\n",
              "      <td>akiec</td>\n",
              "      <td>histo</td>\n",
              "      <td>85.0</td>\n",
              "      <td>male</td>\n",
              "      <td>back</td>\n",
              "      <td>/content/drive/MyDrive/Kaggle_dataset/skin_can...</td>\n",
              "      <td>0</td>\n",
              "    </tr>\n",
              "    <tr>\n",
              "      <th>9954</th>\n",
              "      <td>HAM_0001386</td>\n",
              "      <td>ISIC_0027668</td>\n",
              "      <td>akiec</td>\n",
              "      <td>histo</td>\n",
              "      <td>60.0</td>\n",
              "      <td>male</td>\n",
              "      <td>scalp</td>\n",
              "      <td>/content/drive/MyDrive/Kaggle_dataset/skin_can...</td>\n",
              "      <td>0</td>\n",
              "    </tr>\n",
              "  </tbody>\n",
              "</table>\n",
              "<p>500 rows × 9 columns</p>\n",
              "</div>"
            ],
            "text/plain": [
              "        lesion_id  ... label\n",
              "9789  HAM_0003136  ...     0\n",
              "9957  HAM_0006587  ...     0\n",
              "9793  HAM_0005505  ...     0\n",
              "9758  HAM_0003455  ...     0\n",
              "9875  HAM_0005459  ...     0\n",
              "...           ...  ...   ...\n",
              "9837  HAM_0003262  ...     0\n",
              "9876  HAM_0003401  ...     0\n",
              "9910  HAM_0005024  ...     0\n",
              "9723  HAM_0005310  ...     0\n",
              "9954  HAM_0001386  ...     0\n",
              "\n",
              "[500 rows x 9 columns]"
            ]
          },
          "metadata": {
            "tags": []
          },
          "execution_count": 31
        }
      ]
    },
    {
      "cell_type": "code",
      "metadata": {
        "id": "OpEpf-pcpoG6"
      },
      "source": [
        "final_df=pd.concat([df_0,df_1,df_2,df_3,df_4,df_5,df_6])"
      ],
      "execution_count": 32,
      "outputs": []
    },
    {
      "cell_type": "code",
      "metadata": {
        "id": "ZvG5CeqIpoKj"
      },
      "source": [
        "final_df=resample(final_df,random_state=20)"
      ],
      "execution_count": 33,
      "outputs": []
    },
    {
      "cell_type": "code",
      "metadata": {
        "id": "McHR1ca7poM5"
      },
      "source": [
        ""
      ],
      "execution_count": 33,
      "outputs": []
    },
    {
      "cell_type": "code",
      "metadata": {
        "id": "1BYBsY9sq7Md"
      },
      "source": [
        "final_df[\"image\"]=final_df['path'].map(lambda x:np.asarray(Image.open(x).resize((32,32))))"
      ],
      "execution_count": 34,
      "outputs": []
    },
    {
      "cell_type": "code",
      "metadata": {
        "id": "9aXSsPYRq7Rm"
      },
      "source": [
        ""
      ],
      "execution_count": 34,
      "outputs": []
    },
    {
      "cell_type": "code",
      "metadata": {
        "id": "JgNQdRpTq7Tw"
      },
      "source": [
        "X=np.asarray(final_df[\"image\"].tolist())\n",
        "X=X/255\n",
        "Y=final_df['label']\n",
        "Y=to_categorical(Y,num_classes=7)\n",
        "\n",
        "x_train,x_test,y_train,y_test=train_test_split(X,Y,test_size=0.25,random_state=40)"
      ],
      "execution_count": 35,
      "outputs": []
    },
    {
      "cell_type": "code",
      "metadata": {
        "id": "2TDFEeu9q7V0"
      },
      "source": [
        "import autokeras as ak\n",
        "import tensorflow as tf"
      ],
      "execution_count": 36,
      "outputs": []
    },
    {
      "cell_type": "code",
      "metadata": {
        "colab": {
          "base_uri": "https://localhost:8080/"
        },
        "id": "TBbqfMqCy3g0",
        "outputId": "8b3ddcbb-3802-47f4-acca-40659059fe18"
      },
      "source": [
        "x_test.shape"
      ],
      "execution_count": 37,
      "outputs": [
        {
          "output_type": "execute_result",
          "data": {
            "text/plain": [
              "(875, 32, 32, 3)"
            ]
          },
          "metadata": {
            "tags": []
          },
          "execution_count": 37
        }
      ]
    },
    {
      "cell_type": "code",
      "metadata": {
        "id": "BF61n-2HpoPi"
      },
      "source": [
        "clf=ak.ImageClassifier(max_trials=1)"
      ],
      "execution_count": 38,
      "outputs": []
    },
    {
      "cell_type": "code",
      "metadata": {
        "colab": {
          "base_uri": "https://localhost:8080/"
        },
        "id": "oC5ovfDLpoR8",
        "outputId": "c2fb9ef8-f911-4038-a37d-58a650c6f941"
      },
      "source": [
        "clf.fit(x_train,y_train,validation_data=(x_test,y_test),epochs=100,batch_size=16)"
      ],
      "execution_count": 39,
      "outputs": [
        {
          "output_type": "stream",
          "text": [
            "Trial 1 Complete [00h 00m 55s]\n",
            "val_loss: 0.487651526927948\n",
            "\n",
            "Best val_loss So Far: 0.487651526927948\n",
            "Total elapsed time: 00h 00m 55s\n",
            "INFO:tensorflow:Oracle triggered exit\n",
            "Epoch 1/100\n",
            "165/165 [==============================] - 1s 6ms/step - loss: 1.6943 - accuracy: 0.3426 - val_loss: 1.1591 - val_accuracy: 0.6046\n",
            "Epoch 2/100\n",
            "165/165 [==============================] - 1s 5ms/step - loss: 1.0955 - accuracy: 0.6043 - val_loss: 0.8965 - val_accuracy: 0.6869\n",
            "Epoch 3/100\n",
            "165/165 [==============================] - 1s 5ms/step - loss: 0.8345 - accuracy: 0.6995 - val_loss: 0.7631 - val_accuracy: 0.7429\n",
            "Epoch 4/100\n",
            "165/165 [==============================] - 1s 5ms/step - loss: 0.6402 - accuracy: 0.7720 - val_loss: 0.6856 - val_accuracy: 0.7840\n",
            "Epoch 5/100\n",
            "165/165 [==============================] - 1s 5ms/step - loss: 0.5159 - accuracy: 0.8229 - val_loss: 0.6699 - val_accuracy: 0.7966\n",
            "Epoch 6/100\n",
            "165/165 [==============================] - 1s 5ms/step - loss: 0.4428 - accuracy: 0.8396 - val_loss: 0.6027 - val_accuracy: 0.8114\n",
            "Epoch 7/100\n",
            "165/165 [==============================] - 1s 5ms/step - loss: 0.3930 - accuracy: 0.8751 - val_loss: 0.5805 - val_accuracy: 0.8377\n",
            "Epoch 8/100\n",
            "165/165 [==============================] - 1s 5ms/step - loss: 0.3251 - accuracy: 0.8892 - val_loss: 0.5238 - val_accuracy: 0.8629\n",
            "Epoch 9/100\n",
            "165/165 [==============================] - 1s 5ms/step - loss: 0.2732 - accuracy: 0.8993 - val_loss: 0.5580 - val_accuracy: 0.8537\n",
            "Epoch 10/100\n",
            "165/165 [==============================] - 1s 5ms/step - loss: 0.2246 - accuracy: 0.9297 - val_loss: 0.5142 - val_accuracy: 0.8800\n",
            "Epoch 11/100\n",
            "165/165 [==============================] - 1s 5ms/step - loss: 0.2412 - accuracy: 0.9169 - val_loss: 0.5203 - val_accuracy: 0.8766\n",
            "Epoch 12/100\n",
            "165/165 [==============================] - 1s 5ms/step - loss: 0.2334 - accuracy: 0.9222 - val_loss: 0.5509 - val_accuracy: 0.8697\n",
            "Epoch 13/100\n",
            "165/165 [==============================] - 1s 5ms/step - loss: 0.2230 - accuracy: 0.9241 - val_loss: 0.4905 - val_accuracy: 0.8777\n",
            "Epoch 14/100\n",
            "165/165 [==============================] - 1s 5ms/step - loss: 0.1742 - accuracy: 0.9459 - val_loss: 0.5795 - val_accuracy: 0.8766\n",
            "Epoch 15/100\n",
            "165/165 [==============================] - 1s 5ms/step - loss: 0.1830 - accuracy: 0.9366 - val_loss: 0.5623 - val_accuracy: 0.8709\n",
            "Epoch 16/100\n",
            "165/165 [==============================] - 1s 5ms/step - loss: 0.1434 - accuracy: 0.9464 - val_loss: 0.5302 - val_accuracy: 0.8869\n",
            "Epoch 17/100\n",
            "165/165 [==============================] - 1s 5ms/step - loss: 0.1331 - accuracy: 0.9539 - val_loss: 0.5719 - val_accuracy: 0.8869\n",
            "Epoch 18/100\n",
            "165/165 [==============================] - 1s 5ms/step - loss: 0.1446 - accuracy: 0.9502 - val_loss: 0.5668 - val_accuracy: 0.8903\n",
            "Epoch 19/100\n",
            "165/165 [==============================] - 1s 5ms/step - loss: 0.1094 - accuracy: 0.9688 - val_loss: 0.5361 - val_accuracy: 0.8971\n",
            "Epoch 20/100\n",
            "165/165 [==============================] - 1s 5ms/step - loss: 0.1432 - accuracy: 0.9487 - val_loss: 0.6207 - val_accuracy: 0.8949\n",
            "Epoch 21/100\n",
            "165/165 [==============================] - 1s 5ms/step - loss: 0.1409 - accuracy: 0.9536 - val_loss: 0.5968 - val_accuracy: 0.8834\n",
            "Epoch 22/100\n",
            "165/165 [==============================] - 1s 5ms/step - loss: 0.1338 - accuracy: 0.9614 - val_loss: 0.5727 - val_accuracy: 0.8914\n",
            "Epoch 23/100\n",
            "165/165 [==============================] - 1s 5ms/step - loss: 0.0916 - accuracy: 0.9723 - val_loss: 0.6726 - val_accuracy: 0.8903\n",
            "Epoch 24/100\n",
            "165/165 [==============================] - 1s 5ms/step - loss: 0.1044 - accuracy: 0.9651 - val_loss: 0.6174 - val_accuracy: 0.8846\n",
            "Epoch 25/100\n",
            "165/165 [==============================] - 1s 5ms/step - loss: 0.1166 - accuracy: 0.9585 - val_loss: 0.5815 - val_accuracy: 0.8983\n",
            "Epoch 26/100\n",
            "165/165 [==============================] - 1s 5ms/step - loss: 0.0947 - accuracy: 0.9704 - val_loss: 0.6785 - val_accuracy: 0.8926\n",
            "Epoch 27/100\n",
            "165/165 [==============================] - 1s 5ms/step - loss: 0.0944 - accuracy: 0.9619 - val_loss: 0.6791 - val_accuracy: 0.8937\n",
            "Epoch 28/100\n",
            "165/165 [==============================] - 1s 5ms/step - loss: 0.0916 - accuracy: 0.9633 - val_loss: 0.6648 - val_accuracy: 0.8937\n",
            "Epoch 29/100\n",
            "165/165 [==============================] - 1s 5ms/step - loss: 0.0831 - accuracy: 0.9734 - val_loss: 0.6457 - val_accuracy: 0.8960\n",
            "Epoch 30/100\n",
            "165/165 [==============================] - 1s 5ms/step - loss: 0.0860 - accuracy: 0.9669 - val_loss: 0.6763 - val_accuracy: 0.8846\n",
            "Epoch 31/100\n",
            "165/165 [==============================] - 1s 5ms/step - loss: 0.0884 - accuracy: 0.9736 - val_loss: 0.7003 - val_accuracy: 0.8869\n",
            "Epoch 32/100\n",
            "165/165 [==============================] - 1s 5ms/step - loss: 0.0882 - accuracy: 0.9718 - val_loss: 0.6864 - val_accuracy: 0.8914\n",
            "Epoch 33/100\n",
            "165/165 [==============================] - 1s 5ms/step - loss: 0.0672 - accuracy: 0.9773 - val_loss: 0.7109 - val_accuracy: 0.8937\n",
            "Epoch 34/100\n",
            "165/165 [==============================] - 1s 5ms/step - loss: 0.0864 - accuracy: 0.9735 - val_loss: 0.6784 - val_accuracy: 0.9006\n",
            "Epoch 35/100\n",
            "165/165 [==============================] - 1s 5ms/step - loss: 0.0706 - accuracy: 0.9766 - val_loss: 0.6911 - val_accuracy: 0.8891\n",
            "Epoch 36/100\n",
            "165/165 [==============================] - 1s 5ms/step - loss: 0.0598 - accuracy: 0.9780 - val_loss: 0.6865 - val_accuracy: 0.8949\n",
            "Epoch 37/100\n",
            "165/165 [==============================] - 1s 5ms/step - loss: 0.0713 - accuracy: 0.9751 - val_loss: 0.7057 - val_accuracy: 0.8903\n",
            "Epoch 38/100\n",
            "165/165 [==============================] - 1s 5ms/step - loss: 0.0804 - accuracy: 0.9741 - val_loss: 0.8106 - val_accuracy: 0.8800\n",
            "Epoch 39/100\n",
            "165/165 [==============================] - 1s 5ms/step - loss: 0.0694 - accuracy: 0.9797 - val_loss: 0.7844 - val_accuracy: 0.8857\n",
            "Epoch 40/100\n",
            "165/165 [==============================] - 1s 5ms/step - loss: 0.0684 - accuracy: 0.9786 - val_loss: 0.7457 - val_accuracy: 0.8926\n",
            "Epoch 41/100\n",
            "165/165 [==============================] - 1s 5ms/step - loss: 0.0879 - accuracy: 0.9744 - val_loss: 0.7540 - val_accuracy: 0.8834\n",
            "Epoch 42/100\n",
            "165/165 [==============================] - 1s 5ms/step - loss: 0.0895 - accuracy: 0.9677 - val_loss: 0.8116 - val_accuracy: 0.8743\n",
            "Epoch 43/100\n",
            "165/165 [==============================] - 1s 5ms/step - loss: 0.0802 - accuracy: 0.9747 - val_loss: 0.7275 - val_accuracy: 0.8914\n",
            "Epoch 44/100\n",
            "165/165 [==============================] - 1s 5ms/step - loss: 0.0602 - accuracy: 0.9830 - val_loss: 0.7889 - val_accuracy: 0.8823\n",
            "Epoch 45/100\n",
            "165/165 [==============================] - 1s 5ms/step - loss: 0.0731 - accuracy: 0.9779 - val_loss: 0.8138 - val_accuracy: 0.8949\n",
            "Epoch 46/100\n",
            "165/165 [==============================] - 1s 5ms/step - loss: 0.0529 - accuracy: 0.9836 - val_loss: 0.7879 - val_accuracy: 0.8914\n",
            "Epoch 47/100\n",
            "165/165 [==============================] - 1s 5ms/step - loss: 0.0442 - accuracy: 0.9904 - val_loss: 0.8688 - val_accuracy: 0.8903\n",
            "Epoch 48/100\n",
            "165/165 [==============================] - 1s 5ms/step - loss: 0.0591 - accuracy: 0.9798 - val_loss: 0.8342 - val_accuracy: 0.8937\n",
            "Epoch 49/100\n",
            "165/165 [==============================] - 1s 5ms/step - loss: 0.0740 - accuracy: 0.9728 - val_loss: 0.9245 - val_accuracy: 0.8914\n",
            "Epoch 50/100\n",
            "165/165 [==============================] - 1s 5ms/step - loss: 0.0652 - accuracy: 0.9807 - val_loss: 0.8940 - val_accuracy: 0.8926\n",
            "Epoch 51/100\n",
            "165/165 [==============================] - 1s 5ms/step - loss: 0.0621 - accuracy: 0.9813 - val_loss: 0.8393 - val_accuracy: 0.8983\n",
            "Epoch 52/100\n",
            "165/165 [==============================] - 1s 5ms/step - loss: 0.0606 - accuracy: 0.9776 - val_loss: 0.7985 - val_accuracy: 0.8937\n",
            "Epoch 53/100\n",
            "165/165 [==============================] - 1s 5ms/step - loss: 0.0641 - accuracy: 0.9751 - val_loss: 0.9127 - val_accuracy: 0.8903\n",
            "Epoch 54/100\n",
            "165/165 [==============================] - 1s 5ms/step - loss: 0.0688 - accuracy: 0.9786 - val_loss: 0.8537 - val_accuracy: 0.8914\n",
            "Epoch 55/100\n",
            "165/165 [==============================] - 1s 5ms/step - loss: 0.0654 - accuracy: 0.9769 - val_loss: 0.8567 - val_accuracy: 0.8914\n",
            "Epoch 56/100\n",
            "165/165 [==============================] - 1s 5ms/step - loss: 0.0644 - accuracy: 0.9790 - val_loss: 0.8097 - val_accuracy: 0.8960\n",
            "Epoch 57/100\n",
            "165/165 [==============================] - 1s 5ms/step - loss: 0.0681 - accuracy: 0.9800 - val_loss: 0.8068 - val_accuracy: 0.8949\n",
            "Epoch 58/100\n",
            "165/165 [==============================] - 1s 5ms/step - loss: 0.0563 - accuracy: 0.9758 - val_loss: 0.9370 - val_accuracy: 0.8811\n",
            "Epoch 59/100\n",
            "165/165 [==============================] - 1s 5ms/step - loss: 0.0572 - accuracy: 0.9813 - val_loss: 0.9071 - val_accuracy: 0.8914\n",
            "Epoch 60/100\n",
            "165/165 [==============================] - 1s 5ms/step - loss: 0.0459 - accuracy: 0.9840 - val_loss: 0.8990 - val_accuracy: 0.8926\n",
            "Epoch 61/100\n",
            "165/165 [==============================] - 1s 5ms/step - loss: 0.0618 - accuracy: 0.9796 - val_loss: 0.8625 - val_accuracy: 0.8880\n",
            "Epoch 62/100\n",
            "165/165 [==============================] - 1s 5ms/step - loss: 0.0575 - accuracy: 0.9803 - val_loss: 0.9025 - val_accuracy: 0.8880\n",
            "Epoch 63/100\n",
            "165/165 [==============================] - 1s 5ms/step - loss: 0.0442 - accuracy: 0.9831 - val_loss: 0.8981 - val_accuracy: 0.8903\n",
            "Epoch 64/100\n",
            "165/165 [==============================] - 1s 5ms/step - loss: 0.0476 - accuracy: 0.9870 - val_loss: 0.8687 - val_accuracy: 0.8834\n",
            "Epoch 65/100\n",
            "165/165 [==============================] - 1s 5ms/step - loss: 0.0487 - accuracy: 0.9849 - val_loss: 0.9266 - val_accuracy: 0.8869\n",
            "Epoch 66/100\n",
            "165/165 [==============================] - 1s 5ms/step - loss: 0.0452 - accuracy: 0.9800 - val_loss: 0.9680 - val_accuracy: 0.8869\n",
            "Epoch 67/100\n",
            "165/165 [==============================] - 1s 5ms/step - loss: 0.0644 - accuracy: 0.9815 - val_loss: 0.9396 - val_accuracy: 0.8834\n",
            "Epoch 68/100\n",
            "165/165 [==============================] - 1s 5ms/step - loss: 0.0448 - accuracy: 0.9879 - val_loss: 0.8905 - val_accuracy: 0.8937\n",
            "Epoch 69/100\n",
            "165/165 [==============================] - 1s 5ms/step - loss: 0.0462 - accuracy: 0.9875 - val_loss: 1.0485 - val_accuracy: 0.8869\n",
            "Epoch 70/100\n",
            "165/165 [==============================] - 1s 5ms/step - loss: 0.0496 - accuracy: 0.9841 - val_loss: 0.9399 - val_accuracy: 0.8880\n",
            "Epoch 71/100\n",
            "165/165 [==============================] - 1s 5ms/step - loss: 0.0687 - accuracy: 0.9798 - val_loss: 0.9667 - val_accuracy: 0.8766\n",
            "Epoch 72/100\n",
            "165/165 [==============================] - 1s 5ms/step - loss: 0.0912 - accuracy: 0.9768 - val_loss: 0.9811 - val_accuracy: 0.8949\n",
            "Epoch 73/100\n",
            "165/165 [==============================] - 1s 5ms/step - loss: 0.0505 - accuracy: 0.9836 - val_loss: 1.0128 - val_accuracy: 0.8903\n",
            "Epoch 74/100\n",
            "165/165 [==============================] - 1s 5ms/step - loss: 0.0327 - accuracy: 0.9890 - val_loss: 0.9995 - val_accuracy: 0.8811\n",
            "Epoch 75/100\n",
            "165/165 [==============================] - 1s 5ms/step - loss: 0.0800 - accuracy: 0.9811 - val_loss: 1.0173 - val_accuracy: 0.8891\n",
            "Epoch 76/100\n",
            "165/165 [==============================] - 1s 5ms/step - loss: 0.0575 - accuracy: 0.9857 - val_loss: 1.0181 - val_accuracy: 0.8891\n",
            "Epoch 77/100\n",
            "165/165 [==============================] - 1s 5ms/step - loss: 0.0552 - accuracy: 0.9871 - val_loss: 1.0474 - val_accuracy: 0.8846\n",
            "Epoch 78/100\n",
            "165/165 [==============================] - 1s 5ms/step - loss: 0.0797 - accuracy: 0.9807 - val_loss: 0.9135 - val_accuracy: 0.8857\n",
            "Epoch 79/100\n",
            "165/165 [==============================] - 1s 5ms/step - loss: 0.0530 - accuracy: 0.9833 - val_loss: 0.9214 - val_accuracy: 0.8903\n",
            "Epoch 80/100\n",
            "165/165 [==============================] - 1s 5ms/step - loss: 0.0363 - accuracy: 0.9872 - val_loss: 0.9743 - val_accuracy: 0.8811\n",
            "Epoch 81/100\n",
            "165/165 [==============================] - 1s 5ms/step - loss: 0.0507 - accuracy: 0.9859 - val_loss: 0.9262 - val_accuracy: 0.8869\n",
            "Epoch 82/100\n",
            "165/165 [==============================] - 1s 5ms/step - loss: 0.0499 - accuracy: 0.9847 - val_loss: 0.9057 - val_accuracy: 0.8869\n",
            "Epoch 83/100\n",
            "165/165 [==============================] - 1s 5ms/step - loss: 0.0591 - accuracy: 0.9848 - val_loss: 0.9426 - val_accuracy: 0.8880\n",
            "Epoch 84/100\n",
            "165/165 [==============================] - 1s 5ms/step - loss: 0.0514 - accuracy: 0.9831 - val_loss: 0.9883 - val_accuracy: 0.8891\n",
            "Epoch 85/100\n",
            "165/165 [==============================] - 1s 5ms/step - loss: 0.0437 - accuracy: 0.9880 - val_loss: 1.0194 - val_accuracy: 0.8926\n",
            "Epoch 86/100\n",
            "165/165 [==============================] - 1s 5ms/step - loss: 0.0468 - accuracy: 0.9864 - val_loss: 1.0459 - val_accuracy: 0.8914\n",
            "Epoch 87/100\n",
            "165/165 [==============================] - 1s 5ms/step - loss: 0.0476 - accuracy: 0.9866 - val_loss: 1.0468 - val_accuracy: 0.8914\n",
            "Epoch 88/100\n",
            "165/165 [==============================] - 1s 5ms/step - loss: 0.0401 - accuracy: 0.9870 - val_loss: 1.1234 - val_accuracy: 0.8811\n",
            "Epoch 89/100\n",
            "165/165 [==============================] - 1s 5ms/step - loss: 0.0274 - accuracy: 0.9904 - val_loss: 1.0459 - val_accuracy: 0.8857\n",
            "Epoch 90/100\n",
            "165/165 [==============================] - 1s 5ms/step - loss: 0.0245 - accuracy: 0.9920 - val_loss: 1.1183 - val_accuracy: 0.8846\n",
            "Epoch 91/100\n",
            "165/165 [==============================] - 1s 5ms/step - loss: 0.0373 - accuracy: 0.9880 - val_loss: 1.0731 - val_accuracy: 0.8857\n",
            "Epoch 92/100\n",
            "165/165 [==============================] - 1s 5ms/step - loss: 0.0488 - accuracy: 0.9829 - val_loss: 1.0784 - val_accuracy: 0.8880\n",
            "Epoch 93/100\n",
            "165/165 [==============================] - 1s 5ms/step - loss: 0.0682 - accuracy: 0.9797 - val_loss: 1.1918 - val_accuracy: 0.8823\n",
            "Epoch 94/100\n",
            "165/165 [==============================] - 1s 5ms/step - loss: 0.0847 - accuracy: 0.9707 - val_loss: 1.0326 - val_accuracy: 0.8903\n",
            "Epoch 95/100\n",
            "165/165 [==============================] - 1s 5ms/step - loss: 0.0262 - accuracy: 0.9925 - val_loss: 1.0242 - val_accuracy: 0.8971\n",
            "Epoch 96/100\n",
            "165/165 [==============================] - 1s 5ms/step - loss: 0.0403 - accuracy: 0.9863 - val_loss: 1.0523 - val_accuracy: 0.8891\n",
            "Epoch 97/100\n",
            "165/165 [==============================] - 1s 5ms/step - loss: 0.0462 - accuracy: 0.9884 - val_loss: 1.2282 - val_accuracy: 0.8754\n",
            "Epoch 98/100\n",
            "165/165 [==============================] - 1s 5ms/step - loss: 0.0808 - accuracy: 0.9734 - val_loss: 1.1148 - val_accuracy: 0.8903\n",
            "Epoch 99/100\n",
            "165/165 [==============================] - 1s 5ms/step - loss: 0.0695 - accuracy: 0.9821 - val_loss: 1.0100 - val_accuracy: 0.8857\n",
            "Epoch 100/100\n",
            "165/165 [==============================] - 1s 5ms/step - loss: 0.0330 - accuracy: 0.9878 - val_loss: 1.0443 - val_accuracy: 0.8869\n",
            "INFO:tensorflow:Assets written to: ./image_classifier/best_model/assets\n"
          ],
          "name": "stdout"
        }
      ]
    },
    {
      "cell_type": "code",
      "metadata": {
        "colab": {
          "base_uri": "https://localhost:8080/"
        },
        "id": "I4jiXAOZpoU9",
        "outputId": "c067add2-5999-453c-a5e3-baa11f03003d"
      },
      "source": [
        "model=clf.export_model()\n",
        "model.summary()"
      ],
      "execution_count": 44,
      "outputs": [
        {
          "output_type": "stream",
          "text": [
            "Model: \"model\"\n",
            "_________________________________________________________________\n",
            "Layer (type)                 Output Shape              Param #   \n",
            "=================================================================\n",
            "input_1 (InputLayer)         [(None, 32, 32, 3)]       0         \n",
            "_________________________________________________________________\n",
            "cast_to_float32 (CastToFloat (None, 32, 32, 3)         0         \n",
            "_________________________________________________________________\n",
            "normalization (Normalization (None, 32, 32, 3)         7         \n",
            "_________________________________________________________________\n",
            "conv2d (Conv2D)              (None, 30, 30, 32)        896       \n",
            "_________________________________________________________________\n",
            "conv2d_1 (Conv2D)            (None, 28, 28, 64)        18496     \n",
            "_________________________________________________________________\n",
            "max_pooling2d (MaxPooling2D) (None, 14, 14, 64)        0         \n",
            "_________________________________________________________________\n",
            "dropout (Dropout)            (None, 14, 14, 64)        0         \n",
            "_________________________________________________________________\n",
            "flatten (Flatten)            (None, 12544)             0         \n",
            "_________________________________________________________________\n",
            "dropout_1 (Dropout)          (None, 12544)             0         \n",
            "_________________________________________________________________\n",
            "dense (Dense)                (None, 7)                 87815     \n",
            "_________________________________________________________________\n",
            "classification_head_1 (Softm (None, 7)                 0         \n",
            "=================================================================\n",
            "Total params: 107,214\n",
            "Trainable params: 107,207\n",
            "Non-trainable params: 7\n",
            "_________________________________________________________________\n"
          ],
          "name": "stdout"
        }
      ]
    },
    {
      "cell_type": "code",
      "metadata": {
        "id": "-TYeO0-ZEgec",
        "colab": {
          "base_uri": "https://localhost:8080/"
        },
        "outputId": "583621bf-d45c-4dd0-b65b-ce35ff038866"
      },
      "source": [
        "ml=x_train[0].reshape((-1,32,32,3))\n",
        "print(np.argmax(model.predict(ml)))\n",
        "print(np.argmax(y_train[0]))"
      ],
      "execution_count": 53,
      "outputs": [
        {
          "output_type": "stream",
          "text": [
            "3\n",
            "3\n"
          ],
          "name": "stdout"
        }
      ]
    },
    {
      "cell_type": "code",
      "metadata": {
        "id": "ILN4r5W4EghR",
        "colab": {
          "base_uri": "https://localhost:8080/"
        },
        "outputId": "a648cfa4-9e48-4768-f057-059735387a48"
      },
      "source": [
        "y_test.shape"
      ],
      "execution_count": 45,
      "outputs": [
        {
          "output_type": "execute_result",
          "data": {
            "text/plain": [
              "(875, 7)"
            ]
          },
          "metadata": {
            "tags": []
          },
          "execution_count": 45
        }
      ]
    },
    {
      "cell_type": "code",
      "metadata": {
        "id": "Mdew5cgbEgjh",
        "colab": {
          "base_uri": "https://localhost:8080/"
        },
        "outputId": "e81cb62e-2946-414b-fafd-6e0d7d279525"
      },
      "source": [
        "lp=15\n",
        "k=x_test[lp].reshape((-1,32,32,3))\n",
        "ans=(model.predict(k))\n",
        "print(np.argmax(ans),np.argmax(y_test[lp]))"
      ],
      "execution_count": 47,
      "outputs": [
        {
          "output_type": "stream",
          "text": [
            "2 2\n"
          ],
          "name": "stdout"
        }
      ]
    },
    {
      "cell_type": "code",
      "metadata": {
        "id": "KkVsL2J0wxvG"
      },
      "source": [
        "clf.evaluate(x_test,y_test)"
      ],
      "execution_count": null,
      "outputs": []
    },
    {
      "cell_type": "code",
      "metadata": {
        "id": "9IEZJaOkwx8F"
      },
      "source": [
        "np.argmax(ans)"
      ],
      "execution_count": null,
      "outputs": []
    },
    {
      "cell_type": "code",
      "metadata": {
        "id": "V5-7WUtQwx__"
      },
      "source": [
        "y_train[0]"
      ],
      "execution_count": null,
      "outputs": []
    },
    {
      "cell_type": "code",
      "metadata": {
        "id": "YkmIB828wyCQ"
      },
      "source": [
        ""
      ],
      "execution_count": null,
      "outputs": []
    },
    {
      "cell_type": "code",
      "metadata": {
        "id": "xRr8LBhiwyER"
      },
      "source": [
        ""
      ],
      "execution_count": null,
      "outputs": []
    }
  ]
}